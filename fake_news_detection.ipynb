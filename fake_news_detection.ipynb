{
 "cells": [
  {
   "cell_type": "markdown",
   "id": "fc1370f6",
   "metadata": {},
   "source": [
    "The dataset was downloaded from https://raw.githubusercontent.com/lutzhamel/fake-news/master/data/fake_or_real_news.csv\n",
    "The data is divided into the columns [id, title, text, label].\n",
    "In the label column the items are labeled as fake or real, which allows the detection."
   ]
  },
  {
   "cell_type": "markdown",
   "id": "e9045ab4-5eb0-4535-b67f-aa62b1640b0a",
   "metadata": {},
   "source": [
    "IMPORTS\n"
   ]
  },
  {
   "cell_type": "code",
   "execution_count": 128,
   "id": "b066ca19-e3ad-4db8-a01e-b11a73952f24",
   "metadata": {
    "tags": []
   },
   "outputs": [],
   "source": [
    "import pandas as pd\n",
    "import numpy as np\n",
    "from sklearn.model_selection import train_test_split\n",
    "from sklearn.metrics import confusion_matrix\n",
    "from sklearn.feature_extraction.text import TfidfVectorizer\n",
    "from sklearn.linear_model import LogisticRegression\n",
    "from sklearn.ensemble import RandomForestClassifier\n",
    "from sklearn.svm import LinearSVC\n",
    "from mlxtend.plotting import plot_decision_regions\n",
    "import seaborn as sns\n",
    "import matplotlib.pyplot as plt"
   ]
  },
  {
   "cell_type": "code",
   "execution_count": 129,
   "id": "61bc8f98-ed44-41a9-b74a-f5df09eb6f12",
   "metadata": {
    "tags": []
   },
   "outputs": [],
   "source": [
    "df = pd.read_csv(\"https://raw.githubusercontent.com/lutzhamel/fake-news/master/data/fake_or_real_news.csv\")"
   ]
  },
  {
   "cell_type": "markdown",
   "id": "6e240f8e",
   "metadata": {},
   "source": [
    "Inspecting dataframe"
   ]
  },
  {
   "cell_type": "code",
   "execution_count": 130,
   "id": "77616583",
   "metadata": {},
   "outputs": [
    {
     "data": {
      "text/html": [
       "<div>\n",
       "<style scoped>\n",
       "    .dataframe tbody tr th:only-of-type {\n",
       "        vertical-align: middle;\n",
       "    }\n",
       "\n",
       "    .dataframe tbody tr th {\n",
       "        vertical-align: top;\n",
       "    }\n",
       "\n",
       "    .dataframe thead th {\n",
       "        text-align: right;\n",
       "    }\n",
       "</style>\n",
       "<table border=\"1\" class=\"dataframe\">\n",
       "  <thead>\n",
       "    <tr style=\"text-align: right;\">\n",
       "      <th></th>\n",
       "      <th>id</th>\n",
       "    </tr>\n",
       "  </thead>\n",
       "  <tbody>\n",
       "    <tr>\n",
       "      <th>count</th>\n",
       "      <td>6335.000000</td>\n",
       "    </tr>\n",
       "    <tr>\n",
       "      <th>mean</th>\n",
       "      <td>5280.415627</td>\n",
       "    </tr>\n",
       "    <tr>\n",
       "      <th>std</th>\n",
       "      <td>3038.503953</td>\n",
       "    </tr>\n",
       "    <tr>\n",
       "      <th>min</th>\n",
       "      <td>2.000000</td>\n",
       "    </tr>\n",
       "    <tr>\n",
       "      <th>25%</th>\n",
       "      <td>2674.500000</td>\n",
       "    </tr>\n",
       "    <tr>\n",
       "      <th>50%</th>\n",
       "      <td>5271.000000</td>\n",
       "    </tr>\n",
       "    <tr>\n",
       "      <th>75%</th>\n",
       "      <td>7901.000000</td>\n",
       "    </tr>\n",
       "    <tr>\n",
       "      <th>max</th>\n",
       "      <td>10557.000000</td>\n",
       "    </tr>\n",
       "  </tbody>\n",
       "</table>\n",
       "</div>"
      ],
      "text/plain": [
       "                 id\n",
       "count   6335.000000\n",
       "mean    5280.415627\n",
       "std     3038.503953\n",
       "min        2.000000\n",
       "25%     2674.500000\n",
       "50%     5271.000000\n",
       "75%     7901.000000\n",
       "max    10557.000000"
      ]
     },
     "execution_count": 130,
     "metadata": {},
     "output_type": "execute_result"
    }
   ],
   "source": [
    "df.describe()"
   ]
  },
  {
   "cell_type": "code",
   "execution_count": 131,
   "id": "2c684622-7f34-450b-a570-5f2baae0977c",
   "metadata": {
    "tags": []
   },
   "outputs": [
    {
     "data": {
      "text/html": [
       "<div>\n",
       "<style scoped>\n",
       "    .dataframe tbody tr th:only-of-type {\n",
       "        vertical-align: middle;\n",
       "    }\n",
       "\n",
       "    .dataframe tbody tr th {\n",
       "        vertical-align: top;\n",
       "    }\n",
       "\n",
       "    .dataframe thead th {\n",
       "        text-align: right;\n",
       "    }\n",
       "</style>\n",
       "<table border=\"1\" class=\"dataframe\">\n",
       "  <thead>\n",
       "    <tr style=\"text-align: right;\">\n",
       "      <th></th>\n",
       "      <th>id</th>\n",
       "      <th>title</th>\n",
       "      <th>text</th>\n",
       "      <th>label</th>\n",
       "    </tr>\n",
       "  </thead>\n",
       "  <tbody>\n",
       "    <tr>\n",
       "      <th>0</th>\n",
       "      <td>8476</td>\n",
       "      <td>You Can Smell Hillary’s Fear</td>\n",
       "      <td>Daniel Greenfield, a Shillman Journalism Fello...</td>\n",
       "      <td>FAKE</td>\n",
       "    </tr>\n",
       "    <tr>\n",
       "      <th>1</th>\n",
       "      <td>10294</td>\n",
       "      <td>Watch The Exact Moment Paul Ryan Committed Pol...</td>\n",
       "      <td>Google Pinterest Digg Linkedin Reddit Stumbleu...</td>\n",
       "      <td>FAKE</td>\n",
       "    </tr>\n",
       "    <tr>\n",
       "      <th>2</th>\n",
       "      <td>3608</td>\n",
       "      <td>Kerry to go to Paris in gesture of sympathy</td>\n",
       "      <td>U.S. Secretary of State John F. Kerry said Mon...</td>\n",
       "      <td>REAL</td>\n",
       "    </tr>\n",
       "    <tr>\n",
       "      <th>3</th>\n",
       "      <td>10142</td>\n",
       "      <td>Bernie supporters on Twitter erupt in anger ag...</td>\n",
       "      <td>— Kaydee King (@KaydeeKing) November 9, 2016 T...</td>\n",
       "      <td>FAKE</td>\n",
       "    </tr>\n",
       "    <tr>\n",
       "      <th>4</th>\n",
       "      <td>875</td>\n",
       "      <td>The Battle of New York: Why This Primary Matters</td>\n",
       "      <td>It's primary day in New York and front-runners...</td>\n",
       "      <td>REAL</td>\n",
       "    </tr>\n",
       "  </tbody>\n",
       "</table>\n",
       "</div>"
      ],
      "text/plain": [
       "      id                                              title  \\\n",
       "0   8476                       You Can Smell Hillary’s Fear   \n",
       "1  10294  Watch The Exact Moment Paul Ryan Committed Pol...   \n",
       "2   3608        Kerry to go to Paris in gesture of sympathy   \n",
       "3  10142  Bernie supporters on Twitter erupt in anger ag...   \n",
       "4    875   The Battle of New York: Why This Primary Matters   \n",
       "\n",
       "                                                text label  \n",
       "0  Daniel Greenfield, a Shillman Journalism Fello...  FAKE  \n",
       "1  Google Pinterest Digg Linkedin Reddit Stumbleu...  FAKE  \n",
       "2  U.S. Secretary of State John F. Kerry said Mon...  REAL  \n",
       "3  — Kaydee King (@KaydeeKing) November 9, 2016 T...  FAKE  \n",
       "4  It's primary day in New York and front-runners...  REAL  "
      ]
     },
     "execution_count": 131,
     "metadata": {},
     "output_type": "execute_result"
    }
   ],
   "source": [
    "df.head()"
   ]
  },
  {
   "cell_type": "markdown",
   "id": "71e2aa9a",
   "metadata": {},
   "source": [
    "Converting label to binary"
   ]
  },
  {
   "cell_type": "code",
   "execution_count": 132,
   "id": "81a2021a-dcde-4f15-81d8-c5f9696168c2",
   "metadata": {
    "tags": []
   },
   "outputs": [],
   "source": [
    "df['T/F_news'] = df['label'].apply(lambda x: 0 if x == \"FAKE\" else 1)"
   ]
  },
  {
   "cell_type": "code",
   "execution_count": 133,
   "id": "d012a6b9-6385-410e-a8d1-0e29b16de43f",
   "metadata": {
    "tags": []
   },
   "outputs": [
    {
     "data": {
      "text/plain": [
       "1    3171\n",
       "0    3164\n",
       "Name: T/F_news, dtype: int64"
      ]
     },
     "execution_count": 133,
     "metadata": {},
     "output_type": "execute_result"
    }
   ],
   "source": [
    "df['T/F_news'].value_counts()"
   ]
  },
  {
   "cell_type": "code",
   "execution_count": 134,
   "id": "10d6f6f4",
   "metadata": {},
   "outputs": [
    {
     "data": {
      "image/png": "[encoded data removed]",
      "text/plain": [
       "<Figure size 500x500 with 1 Axes>"
      ]
     },
     "metadata": {},
     "output_type": "display_data"
    }
   ],
   "source": [
    "sns.displot(data=df, x='T/F_news',legend=True) #dispot of data range\n",
    "plt.show()"
   ]
  },
  {
   "cell_type": "markdown",
   "id": "66b57d77",
   "metadata": {},
   "source": [
    "Assigning X, y to text and T/F_news column"
   ]
  },
  {
   "cell_type": "code",
   "execution_count": 135,
   "id": "4a1432f0-a498-410b-9890-15da875075dc",
   "metadata": {
    "tags": []
   },
   "outputs": [],
   "source": [
    "X, y = df['text'], df['T/F_news']"
   ]
  },
  {
   "cell_type": "markdown",
   "id": "9afc0b84-f9f9-4199-aac2-32d232f5b40c",
   "metadata": {
    "tags": []
   },
   "source": [
    "Scaling X (skipping Y as it's binary data no sense in vectorizing)"
   ]
  },
  {
   "cell_type": "code",
   "execution_count": 136,
   "id": "4ad5ac1f-72fe-4e3e-9dd0-7b92ded80508",
   "metadata": {
    "tags": []
   },
   "outputs": [],
   "source": [
    "X_train, X_test, y_train, y_test = train_test_split(X, y, test_size= 0.15, random_state=0)"
   ]
  },
  {
   "cell_type": "code",
   "execution_count": 137,
   "id": "12b2f58e-ec3e-47e0-a7d9-01fa22d1cc1c",
   "metadata": {
    "tags": []
   },
   "outputs": [],
   "source": [
    "vectorizer = TfidfVectorizer(stop_words=\"english\", max_df=0.8)\n",
    "X_train_vectorized = vectorizer.fit_transform(X_train)\n",
    "X_test_vectorized = vectorizer.transform(X_test)"
   ]
  },
  {
   "cell_type": "code",
   "execution_count": 138,
   "id": "9f8494b4-041d-4eea-97db-6c4b101e0c16",
   "metadata": {
    "tags": []
   },
   "outputs": [],
   "source": [
    "#creating function for taking sample news from set\n",
    "def check_sample_article(var: int):\n",
    "    with open(\"txt1.txt\", \"w\", encoding=\"utf-8\") as f:\n",
    "        f.write(X_test.iloc[var])\n",
    "    with open(\"txt1.txt\", \"r\", encoding=\"utf-8\") as f:\n",
    "        txt = f.read()\n",
    "        #vectorizing list and its type take first argument 1= T, 0 = F\n",
    "        if model.predict(vectorizer.transform([txt]))[0] == 1:\n",
    "            return \"Real News\"\n",
    "        return \"Fake News!\"\n",
    "\n",
    "#creating function for calling the models as it is repetitive\n",
    "def model_selector(model_type):\n",
    "    global model # using global, as predicting y_pred variable outside the function\n",
    "    model = model_type\n",
    "    model.fit(X_train_vectorized, y_train)\n",
    "    return model.score(X_test_vectorized,y_test)\n"
   ]
  },
  {
   "cell_type": "code",
   "execution_count": 139,
   "id": "aa2751b9",
   "metadata": {},
   "outputs": [
    {
     "data": {
      "text/plain": [
       "0.9327024185068349"
      ]
     },
     "execution_count": 139,
     "metadata": {},
     "output_type": "execute_result"
    }
   ],
   "source": [
    "model_selector(LinearSVC(random_state=0))"
   ]
  },
  {
   "cell_type": "code",
   "execution_count": 140,
   "id": "05551d6c",
   "metadata": {},
   "outputs": [
    {
     "data": {
      "text/html": [
       "<div>\n",
       "<style scoped>\n",
       "    .dataframe tbody tr th:only-of-type {\n",
       "        vertical-align: middle;\n",
       "    }\n",
       "\n",
       "    .dataframe tbody tr th {\n",
       "        vertical-align: top;\n",
       "    }\n",
       "\n",
       "    .dataframe thead th {\n",
       "        text-align: right;\n",
       "    }\n",
       "</style>\n",
       "<table border=\"1\" class=\"dataframe\">\n",
       "  <thead>\n",
       "    <tr style=\"text-align: right;\">\n",
       "      <th></th>\n",
       "      <th>0</th>\n",
       "      <th>1</th>\n",
       "    </tr>\n",
       "  </thead>\n",
       "  <tbody>\n",
       "    <tr>\n",
       "      <th>0</th>\n",
       "      <td>429</td>\n",
       "      <td>34</td>\n",
       "    </tr>\n",
       "    <tr>\n",
       "      <th>1</th>\n",
       "      <td>30</td>\n",
       "      <td>458</td>\n",
       "    </tr>\n",
       "  </tbody>\n",
       "</table>\n",
       "</div>"
      ],
      "text/plain": [
       "     0    1\n",
       "0  429   34\n",
       "1   30  458"
      ]
     },
     "execution_count": 140,
     "metadata": {},
     "output_type": "execute_result"
    }
   ],
   "source": [
    "pd.DataFrame(confusion_matrix(y_test, model.predict(X_test_vectorized)))"
   ]
  },
  {
   "cell_type": "code",
   "execution_count": 141,
   "id": "29f8f2a0-f255-49fa-a9bd-40c583bc6161",
   "metadata": {},
   "outputs": [
    {
     "data": {
      "text/plain": [
       "0.9158780231335436"
      ]
     },
     "execution_count": 141,
     "metadata": {},
     "output_type": "execute_result"
    }
   ],
   "source": [
    "model_selector(LogisticRegression(random_state=0))"
   ]
  },
  {
   "cell_type": "code",
   "execution_count": 142,
   "id": "04d21d85",
   "metadata": {},
   "outputs": [
    {
     "data": {
      "text/html": [
       "<div>\n",
       "<style scoped>\n",
       "    .dataframe tbody tr th:only-of-type {\n",
       "        vertical-align: middle;\n",
       "    }\n",
       "\n",
       "    .dataframe tbody tr th {\n",
       "        vertical-align: top;\n",
       "    }\n",
       "\n",
       "    .dataframe thead th {\n",
       "        text-align: right;\n",
       "    }\n",
       "</style>\n",
       "<table border=\"1\" class=\"dataframe\">\n",
       "  <thead>\n",
       "    <tr style=\"text-align: right;\">\n",
       "      <th></th>\n",
       "      <th>0</th>\n",
       "      <th>1</th>\n",
       "    </tr>\n",
       "  </thead>\n",
       "  <tbody>\n",
       "    <tr>\n",
       "      <th>0</th>\n",
       "      <td>426</td>\n",
       "      <td>37</td>\n",
       "    </tr>\n",
       "    <tr>\n",
       "      <th>1</th>\n",
       "      <td>43</td>\n",
       "      <td>445</td>\n",
       "    </tr>\n",
       "  </tbody>\n",
       "</table>\n",
       "</div>"
      ],
      "text/plain": [
       "     0    1\n",
       "0  426   37\n",
       "1   43  445"
      ]
     },
     "execution_count": 142,
     "metadata": {},
     "output_type": "execute_result"
    }
   ],
   "source": [
    "pd.DataFrame(confusion_matrix(y_test, model.predict(X_test_vectorized)))"
   ]
  },
  {
   "cell_type": "code",
   "execution_count": 143,
   "id": "6106e83d",
   "metadata": {},
   "outputs": [
    {
     "data": {
      "text/plain": [
       "0.9064143007360673"
      ]
     },
     "execution_count": 143,
     "metadata": {},
     "output_type": "execute_result"
    }
   ],
   "source": [
    "model_selector(RandomForestClassifier(random_state=0))\n"
   ]
  },
  {
   "cell_type": "code",
   "execution_count": 144,
   "id": "9dd3554c",
   "metadata": {},
   "outputs": [
    {
     "data": {
      "text/html": [
       "<div>\n",
       "<style scoped>\n",
       "    .dataframe tbody tr th:only-of-type {\n",
       "        vertical-align: middle;\n",
       "    }\n",
       "\n",
       "    .dataframe tbody tr th {\n",
       "        vertical-align: top;\n",
       "    }\n",
       "\n",
       "    .dataframe thead th {\n",
       "        text-align: right;\n",
       "    }\n",
       "</style>\n",
       "<table border=\"1\" class=\"dataframe\">\n",
       "  <thead>\n",
       "    <tr style=\"text-align: right;\">\n",
       "      <th></th>\n",
       "      <th>0</th>\n",
       "      <th>1</th>\n",
       "    </tr>\n",
       "  </thead>\n",
       "  <tbody>\n",
       "    <tr>\n",
       "      <th>0</th>\n",
       "      <td>413</td>\n",
       "      <td>50</td>\n",
       "    </tr>\n",
       "    <tr>\n",
       "      <th>1</th>\n",
       "      <td>39</td>\n",
       "      <td>449</td>\n",
       "    </tr>\n",
       "  </tbody>\n",
       "</table>\n",
       "</div>"
      ],
      "text/plain": [
       "     0    1\n",
       "0  413   50\n",
       "1   39  449"
      ]
     },
     "execution_count": 144,
     "metadata": {},
     "output_type": "execute_result"
    }
   ],
   "source": [
    "pd.DataFrame(confusion_matrix(y_test, model.predict(X_test_vectorized)))"
   ]
  },
  {
   "cell_type": "code",
   "execution_count": 145,
   "id": "f216aae5",
   "metadata": {},
   "outputs": [
    {
     "data": {
      "text/plain": [
       "'Real News'"
      ]
     },
     "execution_count": 145,
     "metadata": {},
     "output_type": "execute_result"
    }
   ],
   "source": [
    "check_sample_article(41)"
   ]
  },
  {
   "cell_type": "code",
   "execution_count": 146,
   "id": "6b32387e",
   "metadata": {},
   "outputs": [
    {
     "data": {
      "text/plain": [
       "id                                                        431\n",
       "title       First Take: Wall Street bids goodbye to June hike\n",
       "text        NEW YORK -- Bye bye June rate hike. That was t...\n",
       "label                                                    REAL\n",
       "T/F_news                                                    1\n",
       "Name: 41, dtype: object"
      ]
     },
     "execution_count": 146,
     "metadata": {},
     "output_type": "execute_result"
    }
   ],
   "source": [
    "df.iloc[41]"
   ]
  },
  {
   "cell_type": "markdown",
   "id": "382f466a",
   "metadata": {},
   "source": [
    "Conclusions\n",
    "\n",
    "In the fake news detection project the following supervised ML methods: LinearSVC, Logistic Regression, Random Forest Classifier The model accuracy was the following for each method, accordingly.\n",
    "\n",
    "LinearSVC score => 0.9327; \n",
    "\n",
    "\tconfusion matrix\n",
    "\t\t0\t1\n",
    "\t0\t429\t34\n",
    "\t1\t30\t458\n",
    "\n",
    "Logistic Regression score => 0.9158; \n",
    "\n",
    "\tconfusion matrix\n",
    "\t\t0\t1\n",
    "\t0\t426\t37\n",
    "\t1\t43\t445\n",
    "\n",
    "Random Forest Classifier score => 0.9064; \n",
    "\n",
    "\tconfusion matrix\n",
    "    \t0\t1\n",
    "\t0\t413\t50\n",
    "\t1\t39\t449\n",
    "\n",
    "\n",
    "The most suitable division into a training set and a test set is the proportion of 75% - 15%. Other combinations of parameters may increase the model accuracy, but with the cost of increased number of mistakes made in the confusion matrix.\n",
    "As a result, usage of LinearSVC model resulted the most efficient among the others with the smaller margin of error."
   ]
  }
 ],
 "metadata": {
  "kernelspec": {
   "display_name": "Python 3 (ipykernel)",
   "language": "python",
   "name": "python3"
  },
  "language_info": {
   "codemirror_mode": {
    "name": "ipython",
    "version": 3
   },
   "file_extension": ".py",
   "mimetype": "text/x-python",
   "name": "python",
   "nbconvert_exporter": "python",
   "pygments_lexer": "ipython3",
   "version": "3.11.1"
  }
 },
 "nbformat": 4,
 "nbformat_minor": 5
}
